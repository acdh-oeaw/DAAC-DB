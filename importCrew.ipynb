{
 "cells": [
  {
   "cell_type": "code",
   "execution_count": 9,
   "metadata": {
    "collapsed": true
   },
   "outputs": [],
   "source": [
    "import csv, re\n",
    "from datetime import datetime"
   ]
  },
  {
   "cell_type": "code",
   "execution_count": 10,
   "metadata": {
    "collapsed": true
   },
   "outputs": [],
   "source": [
    "file = \"data/crew_1944.csv\"\n",
    "with open(file, 'r', encoding='utf-8') as data:\n",
    "    reader = csv.reader(data)\n",
    "    datalist = list(reader)"
   ]
  },
  {
   "cell_type": "code",
   "execution_count": 11,
   "metadata": {
    "collapsed": false
   },
   "outputs": [],
   "source": [
    "persons = []\n",
    "for x in datalist[1:]:\n",
    "    if x[2] != \"\":\n",
    "        person={}\n",
    "        person[\"identifier\"] = x[4]\n",
    "        full_name = x[2].split(\" \")\n",
    "        if len(full_name) == 3:\n",
    "            last_name, first_name = full_name[2], \" \".join([full_name[0], full_name[1]])\n",
    "        elif len(full_name) == 2:\n",
    "            last_name, first_name = full_name[1],full_name[0]\n",
    "        elif len(full_name) == 4:\n",
    "            last_name, first_name = full_name[2], \" \".join([full_name[0], full_name[1], full_name[3]])\n",
    "        person[\"last_name\"] = last_name\n",
    "        person[\"first_name\"] = first_name\n",
    "        person[\"plane\"] = x[0]\n",
    "        person[\"rank\"] = x[3]\n",
    "        person[\"plane_id\"] = x[1]\n",
    "        person[\"destiny\"] = x[5]\n",
    "        person[\"comment\"] = x[6]\n",
    "        person[\"destiny_checked\"] = x[7]\n",
    "        person[\"mia\"] = x[8]\n",
    "        person[\"position\"] = x[9]\n",
    "        persons.append(person)"
   ]
  },
  {
   "cell_type": "code",
   "execution_count": 12,
   "metadata": {
    "collapsed": false
   },
   "outputs": [],
   "source": [
    "for y in persons:\n",
    "    temp_pers, _ = Person.objects.get_or_create(\n",
    "        bomber=Bomber.objects.get_or_create(macr_nr=y[\"plane\"])[0],\n",
    "        last_name=y[\"last_name\"],\n",
    "        first_name=y[\"first_name\"],\n",
    "        rank=y[\"rank\"],\n",
    "        service_nr=y[\"identifier\"],\n",
    "        destiny_stated=y[\"destiny\"],\n",
    "        destiny_checked=y[\"destiny_checked\"],\n",
    "        comment = y[\"comment\"],\n",
    "        mia = y[\"mia\"],\n",
    "        position = y[\"position\"])\n",
    "    temp_pers.save()"
   ]
  },
  {
   "cell_type": "code",
   "execution_count": 6,
   "metadata": {
    "collapsed": true
   },
   "outputs": [],
   "source": [
    "#for z in Person.objects.all():\n",
    " #   z.delete()"
   ]
  },
  {
   "cell_type": "code",
   "execution_count": null,
   "metadata": {
    "collapsed": true
   },
   "outputs": [],
   "source": []
  }
 ],
 "metadata": {
  "kernelspec": {
   "display_name": "Django Shell-Plus",
   "language": "python",
   "name": "django_extensions"
  },
  "language_info": {
   "codemirror_mode": {
    "name": "ipython",
    "version": 3
   },
   "file_extension": ".py",
   "mimetype": "text/x-python",
   "name": "python",
   "nbconvert_exporter": "python",
   "pygments_lexer": "ipython3",
   "version": "3.4.4"
  }
 },
 "nbformat": 4,
 "nbformat_minor": 0
}
