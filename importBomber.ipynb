{
 "cells": [
  {
   "cell_type": "code",
   "execution_count": 6,
   "metadata": {
    "collapsed": false
   },
   "outputs": [],
   "source": [
    "import csv, re\n",
    "from datetime import datetime"
   ]
  },
  {
   "cell_type": "code",
   "execution_count": 7,
   "metadata": {
    "collapsed": false
   },
   "outputs": [],
   "source": [
    "file = \"data/bombers_1944.csv\"\n",
    "with open(file, 'r', encoding='utf-8') as data:\n",
    "    reader = csv.reader(data)\n",
    "    datalist = list(reader)"
   ]
  },
  {
   "cell_type": "code",
   "execution_count": 8,
   "metadata": {
    "collapsed": false
   },
   "outputs": [],
   "source": [
    "#for x in Bomber.objects.all():\n",
    "    #x.delete()"
   ]
  },
  {
   "cell_type": "code",
   "execution_count": 9,
   "metadata": {
    "collapsed": false
   },
   "outputs": [],
   "source": [
    "failed = []\n",
    "for x in datalist[2:]:\n",
    "    crashday = datetime.strptime(x[8], '%d.%m.%Y')\n",
    "    if x[12].startswith(\"/d\"):\n",
    "        latitude = x[12].split(\",\")[1]\n",
    "        latitude = re.findall('\\d+', latitude)\n",
    "        latitude = int(latitude[0])+float(latitude[1])/60\n",
    "        longitude = x[12].split(\",\")[1]\n",
    "        longitude = re.findall('\\d+', longitude)\n",
    "        longitude = int(longitude[0])+float(longitude[1])/60\n",
    "    else:\n",
    "        latitude = 0.0\n",
    "        longitude = 0.0\n",
    "    temp_bomber, _ = Bomber.objects.get_or_create(macr_nr=x[0],\n",
    "                                                 air_force=x[1],\n",
    "                                                 plane_type=x[2],\n",
    "                                                 plane_id=x[3],\n",
    "                                                 name=x[4],\n",
    "                                                 bomber_group=x[5],\n",
    "                                                 squadron=x[6],\n",
    "                                                 reason_of_crash = x[9],\n",
    "                                                 date_of_crash=crashday,\n",
    "                                                     lat = latitude,\n",
    "                                                     lng = longitude,\n",
    "                                                     comment=x[19],\n",
    "                                                     crash_place = Place.objects.get_or_create(name=x[14])[0],\n",
    "                                                     last_seen = Place.objects.get_or_create(name=x[13])[0],\n",
    "                                                     target_place =Place.objects.get_or_create(name=x[11])[0])\n",
    "    temp_bomber.save()"
   ]
  },
  {
   "cell_type": "code",
   "execution_count": 23,
   "metadata": {
    "collapsed": false
   },
   "outputs": [
    {
     "data": {
      "text/plain": [
       "58"
      ]
     },
     "execution_count": 23,
     "metadata": {},
     "output_type": "execute_result"
    }
   ],
   "source": [
    "len(failed)"
   ]
  },
  {
   "cell_type": "code",
   "execution_count": 25,
   "metadata": {
    "collapsed": false
   },
   "outputs": [],
   "source": [
    "with open(\"data/output.csv\", \"w\") as f:\n",
    "    writer = csv.writer(f)\n",
    "    writer.writerows(failed)"
   ]
  },
  {
   "cell_type": "code",
   "execution_count": null,
   "metadata": {
    "collapsed": true
   },
   "outputs": [],
   "source": []
  }
 ],
 "metadata": {
  "kernelspec": {
   "display_name": "Django Shell-Plus",
   "language": "python",
   "name": "django_extensions"
  },
  "language_info": {
   "codemirror_mode": {
    "name": "ipython",
    "version": 3
   },
   "file_extension": ".py",
   "mimetype": "text/x-python",
   "name": "python",
   "nbconvert_exporter": "python",
   "pygments_lexer": "ipython3",
   "version": "3.4.4"
  }
 },
 "nbformat": 4,
 "nbformat_minor": 0
}
