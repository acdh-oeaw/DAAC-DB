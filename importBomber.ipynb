{
 "cells": [
  {
   "cell_type": "code",
   "execution_count": 1,
   "metadata": {
    "collapsed": false
   },
   "outputs": [],
   "source": [
    "import csv, re\n",
    "from datetime import datetime"
   ]
  },
  {
   "cell_type": "code",
   "execution_count": 2,
   "metadata": {
    "collapsed": false
   },
   "outputs": [],
   "source": [
    "file = \"data/bombers_1944.csv\"\n",
    "with open(file, 'r', encoding='utf-8') as data:\n",
    "    reader = csv.reader(data)\n",
    "    datalist = list(reader)"
   ]
  },
  {
   "cell_type": "code",
   "execution_count": 3,
   "metadata": {
    "collapsed": false
   },
   "outputs": [],
   "source": [
    "#for x in Bomber.objects.all():\n",
    " #   x.delete()"
   ]
  },
  {
   "cell_type": "code",
   "execution_count": 4,
   "metadata": {
    "collapsed": false
   },
   "outputs": [
    {
     "name": "stdout",
     "output_type": "stream",
     "text": [
      "['1692', '15th USAAF', 'P-38', '42-12887', '', '1st Fighter', '71st Fighter', 'Owens', '07.01.1944', 'Jäger', '', 'Wr. Neustadt', '', 'nahe Wr. Neustadt', 'Wr. Neustadt', 'Wr. Neustadt', 'Österreich', 'Niederösterreich', '', \"10 P-38 stiegen auf, um Bomber in den Angriffsraum zu begleiten. Bevor sie die Bomber erreichten, wurden sie von 30 bis 40 deutschen Jägern angegriffen. Dabei wurde Owen's P-38 von einer Me109 angegriffen und in Brand geschossen. Owens letzter Funkspruch \"]\n",
      "['2030', '15th USAAF', 'P-38', '43-2507', '', '1st Fighter', '94th Fighter', 'Griffis', '07.01.1944', 'Jäger', '', 'Wr. Neustadt', '', 'nahe Wr. Neustadt', 'Wr. Neustadt', 'Wr. Neustadt', 'Österreich', 'Niederösterreich', '', 'Dogfights im Raum Wr. Neustadt, während denen Griffis Flugzeug von einer FW190 angegriffen wurde.']\n",
      "['2031', '15th USAAF', 'P-38', '42-13403', '', '1st Fighter', '94th Fighter', 'Deveaney', '07.01.1944', 'Jäger', '', 'Wr. Neustadt', '', 'nahe Wr. Neustadt', 'Wr. Neustadt', 'Wr. Neustadt', 'Österreich', 'Niederösterreich', '', 'Die Maschine ging in Flammen zu Boden.']\n",
      "['205089', 'Bomber Command', 'Halifax', 'DK237', '', '', 'No. 428 RCAF', 'Terry', '21.01.1944', 'Nachtjäger', '', 'Magdeburg', '', '', 'Imst', 'Kreuzkarspitze', 'Österreich', 'Tirol', '', 'Wurde von einem Nachtjäger abgeschossen.']\n",
      "['2703', '15th USAAF', 'P-38', '42-12815', '', '82nd Fighter', '95th Fighter', 'Gearhart', '24.02.1944', 'Jäger', '', 'Steyr', \"47°43'N, 14°20'E\", 'Windischgarsten', 'Windischgarsten', 'Windischgarsten', 'Österreich', 'Oberösterreich', '', 'Wurde von FW190 abgeschossen - schaffte Notausstieg.']\n",
      "['2566', '15th USAAF', 'P-38', '42-67087', '-', '1st Fighter', '71st Fighter', 'McKenzie', '24.02.1944', 'technischer Fehler', '', 'Steyr', \"47°45'N, 14°45'E\", 'Palfau', 'Hieflau', 'Hieflau', 'Österreich', 'Steiermark', '', 'Über Hieflau fing ein Triebwerk der Maschine Feuer, nach einem Dogfight mit einem Jäger. Der Pilot meldete über Funk, dass er aussteigen werde.']\n",
      "['2576', '15th USAAF', 'B-17', '42-31416', '', '2', '', 'Withers', '25.02.1944', 'Jäger', '', 'Steyr', '', '', 'Moosdorf', 'Lamprechtshausen', 'Österreich', 'Oberösterreich', '', 'Mehrere deutsche Jäger griffen das Flugzeug an und trafen das Cockpit direkt. Die Maschine sackte über die Flugzeugnase und stürzte ab. Eine Tragfläche fing Feuer. Die Maschine explodierte kurz darauf in der Luft.']\n"
     ]
    },
    {
     "ename": "IndexError",
     "evalue": "list index out of range",
     "output_type": "error",
     "traceback": [
      "\u001b[1;31m---------------------------------------------------------------------------\u001b[0m",
      "\u001b[1;31mIndexError\u001b[0m                                Traceback (most recent call last)",
      "\u001b[1;32m<ipython-input-4-8f6809579f29>\u001b[0m in \u001b[0;36m<module>\u001b[1;34m()\u001b[0m\n\u001b[0;32m      2\u001b[0m     \u001b[0mcrashday\u001b[0m \u001b[1;33m=\u001b[0m \u001b[0mdatetime\u001b[0m\u001b[1;33m.\u001b[0m\u001b[0mstrptime\u001b[0m\u001b[1;33m(\u001b[0m\u001b[0mx\u001b[0m\u001b[1;33m[\u001b[0m\u001b[1;36m8\u001b[0m\u001b[1;33m]\u001b[0m\u001b[1;33m,\u001b[0m \u001b[1;34m'%d.%m.%Y'\u001b[0m\u001b[1;33m)\u001b[0m\u001b[1;33m\u001b[0m\u001b[0m\n\u001b[0;32m      3\u001b[0m     \u001b[1;32mif\u001b[0m \u001b[0mx\u001b[0m\u001b[1;33m[\u001b[0m\u001b[1;36m12\u001b[0m\u001b[1;33m]\u001b[0m \u001b[1;33m!=\u001b[0m\u001b[1;34m\"\"\u001b[0m\u001b[1;33m:\u001b[0m\u001b[1;33m\u001b[0m\u001b[0m\n\u001b[1;32m----> 4\u001b[1;33m         \u001b[0mlatitude\u001b[0m \u001b[1;33m=\u001b[0m \u001b[0mx\u001b[0m\u001b[1;33m[\u001b[0m\u001b[1;36m12\u001b[0m\u001b[1;33m]\u001b[0m\u001b[1;33m.\u001b[0m\u001b[0msplit\u001b[0m\u001b[1;33m(\u001b[0m\u001b[1;34m\",\"\u001b[0m\u001b[1;33m)\u001b[0m\u001b[1;33m[\u001b[0m\u001b[1;36m1\u001b[0m\u001b[1;33m]\u001b[0m\u001b[1;33m\u001b[0m\u001b[0m\n\u001b[0m\u001b[0;32m      5\u001b[0m         \u001b[0mlatitude\u001b[0m \u001b[1;33m=\u001b[0m \u001b[0mre\u001b[0m\u001b[1;33m.\u001b[0m\u001b[0mfindall\u001b[0m\u001b[1;33m(\u001b[0m\u001b[1;34m'\\d+'\u001b[0m\u001b[1;33m,\u001b[0m \u001b[0mlatitude\u001b[0m\u001b[1;33m)\u001b[0m\u001b[1;33m\u001b[0m\u001b[0m\n\u001b[0;32m      6\u001b[0m         \u001b[0mlatitude\u001b[0m \u001b[1;33m=\u001b[0m \u001b[0mint\u001b[0m\u001b[1;33m(\u001b[0m\u001b[0mlatitude\u001b[0m\u001b[1;33m[\u001b[0m\u001b[1;36m0\u001b[0m\u001b[1;33m]\u001b[0m\u001b[1;33m)\u001b[0m\u001b[1;33m+\u001b[0m\u001b[0mfloat\u001b[0m\u001b[1;33m(\u001b[0m\u001b[0mlatitude\u001b[0m\u001b[1;33m[\u001b[0m\u001b[1;36m1\u001b[0m\u001b[1;33m]\u001b[0m\u001b[1;33m)\u001b[0m\u001b[1;33m/\u001b[0m\u001b[1;36m60\u001b[0m\u001b[1;33m\u001b[0m\u001b[0m\n",
      "\u001b[1;31mIndexError\u001b[0m: list index out of range"
     ]
    }
   ],
   "source": [
    "for x in datalist[2:]:\n",
    "    crashday = datetime.strptime(x[8], '%d.%m.%Y')\n",
    "    if x[12] !=\"\":\n",
    "        latitude = x[12].split(\",\")[1]\n",
    "        latitude = re.findall('\\d+', latitude)\n",
    "        latitude = int(latitude[0])+float(latitude[1])/60\n",
    "        longitude = x[12].split(\",\")[1]\n",
    "        longitude = re.findall('\\d+', longitude)\n",
    "        longitude = int(longitude[0])+float(longitude[1])/60\n",
    "    else:\n",
    "        latitude = 0.0\n",
    "        longitude = 0.0\n",
    "    try:\n",
    "        temp_bomber, _ = Bomber.objects.get_or_create(macr_nr=x[0],\n",
    "                                                 air_force=x[1],\n",
    "                                                 plane_type=x[2],\n",
    "                                                 plane_id=x[3],\n",
    "                                                 name=x[4],\n",
    "                                                 bomber_group=x[5],\n",
    "                                                 squadron=x[6],\n",
    "                                                 reason_of_crash = x[9],\n",
    "                                                 date_of_crash=crashday,\n",
    "                                                     lat = latitude,\n",
    "                                                     lng = longitude,\n",
    "                                                     comment=x[19],\n",
    "                                                     crash_place = Place.objects.get_or_create(name=x[14])[0],\n",
    "                                                     last_seen = Place.objects.get_or_create(name=x[13])[0],\n",
    "                                                     target_place =Place.objects.get_or_create(name=x[11])[0])\n",
    "        temp_bomber.save()\n",
    "    except:\n",
    "        print(x)\n",
    "   "
   ]
  },
  {
   "cell_type": "code",
   "execution_count": null,
   "metadata": {
    "collapsed": true
   },
   "outputs": [],
   "source": []
  }
 ],
 "metadata": {
  "kernelspec": {
   "display_name": "Django Shell-Plus",
   "language": "python",
   "name": "django_extensions"
  },
  "language_info": {
   "codemirror_mode": {
    "name": "ipython",
    "version": 3
   },
   "file_extension": ".py",
   "mimetype": "text/x-python",
   "name": "python",
   "nbconvert_exporter": "python",
   "pygments_lexer": "ipython3",
   "version": "3.4.4"
  }
 },
 "nbformat": 4,
 "nbformat_minor": 0
}
